{
 "cells": [
  {
   "cell_type": "code",
   "execution_count": 2,
   "id": "8bf9b4e9",
   "metadata": {},
   "outputs": [],
   "source": [
    "import tkinter as tk\n",
    "\n",
    "window = tk.Tk()\n",
    "window.title('Welcome to the MK solution')\n",
    "\n",
    "label = tk.Label(window,text = 'Hi I am MK',font=(\"Arial Bold\",25)).grid(column = 5,row = 5)#use for positional arrangement\n",
    "\n",
    "window.mainloop()"
   ]
  },
  {
   "cell_type": "code",
   "execution_count": 10,
   "id": "201d1b9c",
   "metadata": {},
   "outputs": [],
   "source": [
    "window = tk.Tk()\n",
    "window.title('Welcome to the MK solution')\n",
    "\n",
    "label = tk.Label(window,text =  'Its MK👑',font=(\"Arial Bold\",50)).pack()#use for dynammic arrangement\n",
    "\n",
    "window.mainloop()"
   ]
  },
  {
   "cell_type": "code",
   "execution_count": 12,
   "id": "f62e25d0",
   "metadata": {},
   "outputs": [],
   "source": [
    "window = tk.Tk()\n",
    "window.title('Welcome to the MK solution')\n",
    "def name():\n",
    "      label = tk.Label(window,text = 'MK',font=(\"Arial Bold\",25),bg='gray',fg='black').pack()#use for dynammic arrangement\n",
    "\n",
    "button = tk.Button(window,text = 'Enter',font=(\"Arial Bold\",25),command = name).pack()\n",
    "\n",
    "window.mainloop()"
   ]
  },
  {
   "cell_type": "code",
   "execution_count": 3,
   "id": "d75d5819",
   "metadata": {},
   "outputs": [],
   "source": [
    "from tkinter import ttk\n",
    "import os as os\n",
    "\n",
    "window = tk.Tk()\n",
    "window.title('Welcome to the MK solution')\n",
    "\n",
    "drop_box = ttk.Combobox(window,font=(\"Arial Bold\",25))\n",
    "drop_box['values']=(os.listdir())\n",
    "drop_box.grid(column=0,row=0)\n",
    "\n",
    "window.mainloop()"
   ]
  },
  {
   "cell_type": "code",
   "execution_count": 75,
   "id": "3e1114df",
   "metadata": {},
   "outputs": [
    {
     "data": {
      "text/plain": [
       "['.ipynb_checkpoints', 'Untitled.ipynb']"
      ]
     },
     "execution_count": 75,
     "metadata": {},
     "output_type": "execute_result"
    }
   ],
   "source": [
    "import os as os\n",
    "\n",
    "os.listdir()"
   ]
  },
  {
   "cell_type": "code",
   "execution_count": 80,
   "id": "70d9e438",
   "metadata": {},
   "outputs": [],
   "source": [
    "import tkinter as tk\n",
    "\n",
    "window = tk.Tk()\n",
    "window.title('Welcome to the MK solution')\n",
    "\n",
    "chk_status = tk.BooleanVar()\n",
    "chk_status.set(True)\n",
    "chk = ttk.Checkbutton(window,text='Log in',var = chk_status#its provide by default check).pack()\n",
    "\n",
    "window.mainloop()"
   ]
  },
  {
   "cell_type": "code",
   "execution_count": 4,
   "id": "8e4c109a",
   "metadata": {},
   "outputs": [],
   "source": [
    "from tkinter import messagebox\n",
    "window = tk.Tk()\n",
    "window.title('Welcome to the MK solutions')\n",
    "def Mes():\n",
    "    messagebox.showinfo(\"Message Content\",\"Something went wrong\")\n",
    "\n",
    "button = tk.Button(window,text = 'Enter',font=(\"Arial Bold\",25),command = Mes).pack()\n",
    "window.mainloop()"
   ]
  },
  {
   "cell_type": "code",
   "execution_count": 17,
   "id": "400d0941",
   "metadata": {},
   "outputs": [],
   "source": [
    "from tkinter import ttk\n",
    "window =tk.Tk()\n",
    "window.title('Welcome to the MK solutions')\n",
    "text = tk.Entry(window,width = 200).pack()\n",
    "\n",
    "window.mainloop()"
   ]
  },
  {
   "cell_type": "code",
   "execution_count": 41,
   "id": "44ee58f8",
   "metadata": {},
   "outputs": [],
   "source": [
    "from tkinter import ttk\n",
    "\n",
    "window =tk.Tk()\n",
    "window.title('Welcome to the MK solutions')\n",
    "\n",
    "label = tk.Label(window,text = 'Username : ',font=(\"Arial Bold\",20)).grid(column = 0,row =0 )\n",
    "text = tk.Entry(window,width = 20).grid(column = 1, row=0)\n",
    "label = tk.Label(window,text = 'Password : ',font=(\"Arial Bold\",20)).grid(column = 0,row =1 )\n",
    "text = tk.Entry(window,width = 20).grid(column = 1, row=1)\n",
    "\n",
    "chk_status = tk.BooleanVar()\n",
    "chk_status.set(True)\n",
    "chk = ttk.Checkbutton(window,text='Log in',var = chk_status).grid(row=3,column = 1)\n",
    "\n",
    "window.mainloop()"
   ]
  },
  {
   "cell_type": "code",
   "execution_count": 57,
   "id": "3efcf9e5",
   "metadata": {},
   "outputs": [],
   "source": [
    "from tkinter import ttk\n",
    "\n",
    "window =tk.Tk()\n",
    "window.title('Welcome to the MK solutions')\n",
    "\n",
    "label = tk.Label(window,text = 'Username : ',font=(\"Arial Bold\",20)).grid(column = 0,row =0 )\n",
    "text = tk.Entry(window,width = 20).grid(column = 1, row=0)\n",
    "label = tk.Label(window,text = 'Password : ',font=(\"Arial Bold\",20)).grid(column = 0,row =1 )\n",
    "text = tk.Entry(window,width = 20).grid(column = 1, row=1)\n",
    "\n",
    "chk_status = tk.BooleanVar()\n",
    "chk_status.set(True)\n",
    "chk = ttk.Checkbutton(window,text='Log in',var = chk_status).grid(row = 3,column = 0,columnspan=2)\n",
    "\n",
    "chk_status = tk.BooleanVar()\n",
    "chk_status.set(True)\n",
    "chk = ttk.Checkbutton(window,text='Sign in',var = chk_status).grid(row = 3,column = 1,columnspan=2)\n",
    "\n",
    "window.mainloop()"
   ]
  },
  {
   "cell_type": "code",
   "execution_count": 58,
   "id": "2e5e1629",
   "metadata": {},
   "outputs": [],
   "source": [
    "from tkinter import ttk\n",
    "\n",
    "window =tk.Tk()\n",
    "window.title('Welcome to the MK solutions')\n",
    "\n",
    "label = tk.Label(window,text = 'Username : ',font=(\"Arial Bold\",20)).grid(column = 0,row =0 )\n",
    "text = tk.Entry(window,width = 20).grid(column = 1, row=0)\n",
    "label = tk.Label(window,text = 'Password : ',font=(\"Arial Bold\",20)).grid(column = 0,row =1 )\n",
    "text = tk.Entry(window,width = 20).grid(column = 1, row=1)\n",
    "\n",
    "chk_status = tk.BooleanVar()\n",
    "chk_status.set(True)\n",
    "chk = ttk.Checkbutton(window,text='Log in',var = chk_status).grid(row = 3,column = 0,columnspan=2)\n",
    "window.mainloop()"
   ]
  },
  {
   "cell_type": "code",
   "execution_count": 64,
   "id": "29e79df6",
   "metadata": {},
   "outputs": [],
   "source": [
    "from tkinter import ttk\n",
    "\n",
    "window =tk.Tk()\n",
    "window.title('Welcome to the MK solutions')\n",
    "\n",
    "spin = tk.Spinbox(window,width=5,from_=0, to = 10).pack(side = \"left\")\n",
    "\n",
    "window.mainloop()"
   ]
  },
  {
   "cell_type": "code",
   "execution_count": 69,
   "id": "96fd08dc",
   "metadata": {},
   "outputs": [],
   "source": [
    "#ALL IN ONE BABDI\n",
    "\n",
    "import tkinter as tk\n",
    "from tkinter import *\n",
    "window = tk.Tk()\n",
    "window.title('Welcome to the MK solution')\n",
    "\n",
    "label = tk.Label(window,text = 'Hi I am MK',font=(\"Arial Bold\",25)).grid(column = 5,row = 5)#use for positional arrangement\n",
    "\n",
    "\n",
    "\n",
    "def Mes():\n",
    "    messagebox.showinfo(\"Message Content\",\"Something went wrong\")\n",
    "\n",
    "button = tk.Button(window,text = 'Enter',font=(\"Arial Bold\",25),command = Mes).grid(row=5, column=0)\n",
    "\n",
    "\n",
    "\n",
    "text = tk.Entry(window,width = 200).grid(row=6,column=0)\n",
    "\n",
    "\n",
    "label = tk.Label(window,text = 'Username : ',font=(\"Arial Bold\",20)).grid(column = 0,row =0 )\n",
    "text = tk.Entry(window,width = 20).grid(column = 1, row=0)\n",
    "label = tk.Label(window,text = 'Password : ',font=(\"Arial Bold\",20)).grid(column = 0,row =1 )\n",
    "text = tk.Entry(window,width = 20).grid(column = 1, row=1)\n",
    "\n",
    "chk_status = tk.BooleanVar()\n",
    "chk_status.set(True)\n",
    "chk = ttk.Checkbutton(window,text='Log in',var = chk_status).grid(row=3,column = 1)\n",
    "\n",
    "\n",
    "chk_status = tk.BooleanVar()\n",
    "chk_status.set(True)\n",
    "chk = ttk.Checkbutton(window,text='Log in',var = chk_status).grid(row = 3,column = 0,columnspan=2)\n",
    "\n",
    "chk_status = tk.BooleanVar()\n",
    "chk_status.set(True)\n",
    "chk = ttk.Checkbutton(window,text='Sign in',var = chk_status).grid(row = 3,column = 1,columnspan=2)\n",
    "\n",
    "label = tk.Label(window,text = 'Username : ',font=(\"Arial Bold\",20)).grid(column = 0,row =0 )\n",
    "text = tk.Entry(window,width = 20).grid(column = 1, row=0)\n",
    "label = tk.Label(window,text = 'Password : ',font=(\"Arial Bold\",20)).grid(column = 0,row =1 )\n",
    "text = tk.Entry(window,width = 20).grid(column = 1, row=1)\n",
    "\n",
    "chk_status = tk.BooleanVar()\n",
    "chk_status.set(True)\n",
    "chk = ttk.Checkbutton(window,text='Log in',var = chk_status).grid(row = 3,column = 0,columnspan=2)\n",
    "\n",
    "\n",
    "spin = tk.Spinbox(window,width=5,from_=0, to = 10).grid(row=7,column=0)\n",
    "\n",
    "\n",
    "window.mainloop()"
   ]
  },
  {
   "cell_type": "code",
   "execution_count": 83,
   "id": "2a7b6bd0",
   "metadata": {},
   "outputs": [],
   "source": [
    "from tkinter import ttk\n",
    "\n",
    "window =tk.Tk()\n",
    "window.geometry(\"500x500\")\n",
    "window.configure(bg=\"black\")\n",
    "window.title('Welcome to the MK solutions')\n",
    "\n",
    "radio = tk.Radiobutton(window,text='batch1',value = 1,bg='red').pack()\n",
    "radio = tk.Radiobutton(window,text='batch2',value = 2).pack()\n",
    "window.mainloop()"
   ]
  },
  {
   "cell_type": "code",
   "execution_count": null,
   "id": "865bdb2b",
   "metadata": {},
   "outputs": [],
   "source": []
  }
 ],
 "metadata": {
  "kernelspec": {
   "display_name": "Python 3 (ipykernel)",
   "language": "python",
   "name": "python3"
  },
  "language_info": {
   "codemirror_mode": {
    "name": "ipython",
    "version": 3
   },
   "file_extension": ".py",
   "mimetype": "text/x-python",
   "name": "python",
   "nbconvert_exporter": "python",
   "pygments_lexer": "ipython3",
   "version": "3.9.13"
  }
 },
 "nbformat": 4,
 "nbformat_minor": 5
}
