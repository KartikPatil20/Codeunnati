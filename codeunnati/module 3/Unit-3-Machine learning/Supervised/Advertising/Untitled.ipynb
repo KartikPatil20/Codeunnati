{
 "cells": [
  {
   "cell_type": "code",
   "execution_count": 5,
   "id": "2fa78762",
   "metadata": {},
   "outputs": [],
   "source": [
    "import pandas as pd\n",
    "import numpy as np"
   ]
  },
  {
   "cell_type": "code",
   "execution_count": 6,
   "id": "aaa01e88",
   "metadata": {},
   "outputs": [],
   "source": [
    "df = pd.read_csv('Advertising.csv')"
   ]
  },
  {
   "cell_type": "code",
   "execution_count": 7,
   "id": "0ff9011b",
   "metadata": {},
   "outputs": [
    {
     "data": {
      "text/html": [
       "<div>\n",
       "<style scoped>\n",
       "    .dataframe tbody tr th:only-of-type {\n",
       "        vertical-align: middle;\n",
       "    }\n",
       "\n",
       "    .dataframe tbody tr th {\n",
       "        vertical-align: top;\n",
       "    }\n",
       "\n",
       "    .dataframe thead th {\n",
       "        text-align: right;\n",
       "    }\n",
       "</style>\n",
       "<table border=\"1\" class=\"dataframe\">\n",
       "  <thead>\n",
       "    <tr style=\"text-align: right;\">\n",
       "      <th></th>\n",
       "      <th>Unnamed: 0</th>\n",
       "      <th>TV</th>\n",
       "      <th>radio</th>\n",
       "      <th>newspaper</th>\n",
       "      <th>sales</th>\n",
       "    </tr>\n",
       "  </thead>\n",
       "  <tbody>\n",
       "    <tr>\n",
       "      <th>0</th>\n",
       "      <td>1</td>\n",
       "      <td>230.1</td>\n",
       "      <td>37.8</td>\n",
       "      <td>69.2</td>\n",
       "      <td>22.1</td>\n",
       "    </tr>\n",
       "    <tr>\n",
       "      <th>1</th>\n",
       "      <td>2</td>\n",
       "      <td>44.5</td>\n",
       "      <td>39.3</td>\n",
       "      <td>45.1</td>\n",
       "      <td>10.4</td>\n",
       "    </tr>\n",
       "    <tr>\n",
       "      <th>2</th>\n",
       "      <td>3</td>\n",
       "      <td>17.2</td>\n",
       "      <td>45.9</td>\n",
       "      <td>69.3</td>\n",
       "      <td>9.3</td>\n",
       "    </tr>\n",
       "    <tr>\n",
       "      <th>3</th>\n",
       "      <td>4</td>\n",
       "      <td>151.5</td>\n",
       "      <td>41.3</td>\n",
       "      <td>58.5</td>\n",
       "      <td>18.5</td>\n",
       "    </tr>\n",
       "    <tr>\n",
       "      <th>4</th>\n",
       "      <td>5</td>\n",
       "      <td>180.8</td>\n",
       "      <td>10.8</td>\n",
       "      <td>58.4</td>\n",
       "      <td>12.9</td>\n",
       "    </tr>\n",
       "    <tr>\n",
       "      <th>...</th>\n",
       "      <td>...</td>\n",
       "      <td>...</td>\n",
       "      <td>...</td>\n",
       "      <td>...</td>\n",
       "      <td>...</td>\n",
       "    </tr>\n",
       "    <tr>\n",
       "      <th>195</th>\n",
       "      <td>196</td>\n",
       "      <td>38.2</td>\n",
       "      <td>3.7</td>\n",
       "      <td>13.8</td>\n",
       "      <td>7.6</td>\n",
       "    </tr>\n",
       "    <tr>\n",
       "      <th>196</th>\n",
       "      <td>197</td>\n",
       "      <td>94.2</td>\n",
       "      <td>4.9</td>\n",
       "      <td>8.1</td>\n",
       "      <td>9.7</td>\n",
       "    </tr>\n",
       "    <tr>\n",
       "      <th>197</th>\n",
       "      <td>198</td>\n",
       "      <td>177.0</td>\n",
       "      <td>9.3</td>\n",
       "      <td>6.4</td>\n",
       "      <td>12.8</td>\n",
       "    </tr>\n",
       "    <tr>\n",
       "      <th>198</th>\n",
       "      <td>199</td>\n",
       "      <td>283.6</td>\n",
       "      <td>42.0</td>\n",
       "      <td>66.2</td>\n",
       "      <td>25.5</td>\n",
       "    </tr>\n",
       "    <tr>\n",
       "      <th>199</th>\n",
       "      <td>200</td>\n",
       "      <td>232.1</td>\n",
       "      <td>8.6</td>\n",
       "      <td>8.7</td>\n",
       "      <td>13.4</td>\n",
       "    </tr>\n",
       "  </tbody>\n",
       "</table>\n",
       "<p>200 rows × 5 columns</p>\n",
       "</div>"
      ],
      "text/plain": [
       "     Unnamed: 0     TV  radio  newspaper  sales\n",
       "0             1  230.1   37.8       69.2   22.1\n",
       "1             2   44.5   39.3       45.1   10.4\n",
       "2             3   17.2   45.9       69.3    9.3\n",
       "3             4  151.5   41.3       58.5   18.5\n",
       "4             5  180.8   10.8       58.4   12.9\n",
       "..          ...    ...    ...        ...    ...\n",
       "195         196   38.2    3.7       13.8    7.6\n",
       "196         197   94.2    4.9        8.1    9.7\n",
       "197         198  177.0    9.3        6.4   12.8\n",
       "198         199  283.6   42.0       66.2   25.5\n",
       "199         200  232.1    8.6        8.7   13.4\n",
       "\n",
       "[200 rows x 5 columns]"
      ]
     },
     "execution_count": 7,
     "metadata": {},
     "output_type": "execute_result"
    }
   ],
   "source": [
    "df"
   ]
  },
  {
   "cell_type": "code",
   "execution_count": null,
   "id": "54488056",
   "metadata": {},
   "outputs": [],
   "source": []
  },
  {
   "cell_type": "code",
   "execution_count": 8,
   "id": "bc0d9d6b",
   "metadata": {},
   "outputs": [
    {
     "data": {
      "text/html": [
       "<div>\n",
       "<style scoped>\n",
       "    .dataframe tbody tr th:only-of-type {\n",
       "        vertical-align: middle;\n",
       "    }\n",
       "\n",
       "    .dataframe tbody tr th {\n",
       "        vertical-align: top;\n",
       "    }\n",
       "\n",
       "    .dataframe thead th {\n",
       "        text-align: right;\n",
       "    }\n",
       "</style>\n",
       "<table border=\"1\" class=\"dataframe\">\n",
       "  <thead>\n",
       "    <tr style=\"text-align: right;\">\n",
       "      <th></th>\n",
       "      <th>Unnamed: 0</th>\n",
       "      <th>TV</th>\n",
       "      <th>radio</th>\n",
       "      <th>newspaper</th>\n",
       "      <th>sales</th>\n",
       "    </tr>\n",
       "  </thead>\n",
       "  <tbody>\n",
       "    <tr>\n",
       "      <th>0</th>\n",
       "      <td>1</td>\n",
       "      <td>230.1</td>\n",
       "      <td>37.8</td>\n",
       "      <td>69.2</td>\n",
       "      <td>22.1</td>\n",
       "    </tr>\n",
       "    <tr>\n",
       "      <th>1</th>\n",
       "      <td>2</td>\n",
       "      <td>44.5</td>\n",
       "      <td>39.3</td>\n",
       "      <td>45.1</td>\n",
       "      <td>10.4</td>\n",
       "    </tr>\n",
       "    <tr>\n",
       "      <th>2</th>\n",
       "      <td>3</td>\n",
       "      <td>17.2</td>\n",
       "      <td>45.9</td>\n",
       "      <td>69.3</td>\n",
       "      <td>9.3</td>\n",
       "    </tr>\n",
       "    <tr>\n",
       "      <th>3</th>\n",
       "      <td>4</td>\n",
       "      <td>151.5</td>\n",
       "      <td>41.3</td>\n",
       "      <td>58.5</td>\n",
       "      <td>18.5</td>\n",
       "    </tr>\n",
       "    <tr>\n",
       "      <th>4</th>\n",
       "      <td>5</td>\n",
       "      <td>180.8</td>\n",
       "      <td>10.8</td>\n",
       "      <td>58.4</td>\n",
       "      <td>12.9</td>\n",
       "    </tr>\n",
       "  </tbody>\n",
       "</table>\n",
       "</div>"
      ],
      "text/plain": [
       "   Unnamed: 0     TV  radio  newspaper  sales\n",
       "0           1  230.1   37.8       69.2   22.1\n",
       "1           2   44.5   39.3       45.1   10.4\n",
       "2           3   17.2   45.9       69.3    9.3\n",
       "3           4  151.5   41.3       58.5   18.5\n",
       "4           5  180.8   10.8       58.4   12.9"
      ]
     },
     "execution_count": 8,
     "metadata": {},
     "output_type": "execute_result"
    }
   ],
   "source": [
    "df.head()"
   ]
  },
  {
   "cell_type": "code",
   "execution_count": 9,
   "id": "8d821602",
   "metadata": {},
   "outputs": [
    {
     "data": {
      "text/plain": [
       "Index(['Unnamed: 0', 'TV', 'radio', 'newspaper', 'sales'], dtype='object')"
      ]
     },
     "execution_count": 9,
     "metadata": {},
     "output_type": "execute_result"
    }
   ],
   "source": [
    "df.columns"
   ]
  },
  {
   "cell_type": "code",
   "execution_count": 10,
   "id": "7d9239b4",
   "metadata": {},
   "outputs": [
    {
     "data": {
      "text/plain": [
       "array([[  1. , 230.1,  37.8,  69.2,  22.1],\n",
       "       [  2. ,  44.5,  39.3,  45.1,  10.4],\n",
       "       [  3. ,  17.2,  45.9,  69.3,   9.3],\n",
       "       [  4. , 151.5,  41.3,  58.5,  18.5],\n",
       "       [  5. , 180.8,  10.8,  58.4,  12.9],\n",
       "       [  6. ,   8.7,  48.9,  75. ,   7.2],\n",
       "       [  7. ,  57.5,  32.8,  23.5,  11.8],\n",
       "       [  8. , 120.2,  19.6,  11.6,  13.2],\n",
       "       [  9. ,   8.6,   2.1,   1. ,   4.8],\n",
       "       [ 10. , 199.8,   2.6,  21.2,  10.6],\n",
       "       [ 11. ,  66.1,   5.8,  24.2,   8.6],\n",
       "       [ 12. , 214.7,  24. ,   4. ,  17.4],\n",
       "       [ 13. ,  23.8,  35.1,  65.9,   9.2],\n",
       "       [ 14. ,  97.5,   7.6,   7.2,   9.7],\n",
       "       [ 15. , 204.1,  32.9,  46. ,  19. ],\n",
       "       [ 16. , 195.4,  47.7,  52.9,  22.4],\n",
       "       [ 17. ,  67.8,  36.6, 114. ,  12.5],\n",
       "       [ 18. , 281.4,  39.6,  55.8,  24.4],\n",
       "       [ 19. ,  69.2,  20.5,  18.3,  11.3],\n",
       "       [ 20. , 147.3,  23.9,  19.1,  14.6],\n",
       "       [ 21. , 218.4,  27.7,  53.4,  18. ],\n",
       "       [ 22. , 237.4,   5.1,  23.5,  12.5],\n",
       "       [ 23. ,  13.2,  15.9,  49.6,   5.6],\n",
       "       [ 24. , 228.3,  16.9,  26.2,  15.5],\n",
       "       [ 25. ,  62.3,  12.6,  18.3,   9.7],\n",
       "       [ 26. , 262.9,   3.5,  19.5,  12. ],\n",
       "       [ 27. , 142.9,  29.3,  12.6,  15. ],\n",
       "       [ 28. , 240.1,  16.7,  22.9,  15.9],\n",
       "       [ 29. , 248.8,  27.1,  22.9,  18.9],\n",
       "       [ 30. ,  70.6,  16. ,  40.8,  10.5],\n",
       "       [ 31. , 292.9,  28.3,  43.2,  21.4],\n",
       "       [ 32. , 112.9,  17.4,  38.6,  11.9],\n",
       "       [ 33. ,  97.2,   1.5,  30. ,   9.6],\n",
       "       [ 34. , 265.6,  20. ,   0.3,  17.4],\n",
       "       [ 35. ,  95.7,   1.4,   7.4,   9.5],\n",
       "       [ 36. , 290.7,   4.1,   8.5,  12.8],\n",
       "       [ 37. , 266.9,  43.8,   5. ,  25.4],\n",
       "       [ 38. ,  74.7,  49.4,  45.7,  14.7],\n",
       "       [ 39. ,  43.1,  26.7,  35.1,  10.1],\n",
       "       [ 40. , 228. ,  37.7,  32. ,  21.5],\n",
       "       [ 41. , 202.5,  22.3,  31.6,  16.6],\n",
       "       [ 42. , 177. ,  33.4,  38.7,  17.1],\n",
       "       [ 43. , 293.6,  27.7,   1.8,  20.7],\n",
       "       [ 44. , 206.9,   8.4,  26.4,  12.9],\n",
       "       [ 45. ,  25.1,  25.7,  43.3,   8.5],\n",
       "       [ 46. , 175.1,  22.5,  31.5,  14.9],\n",
       "       [ 47. ,  89.7,   9.9,  35.7,  10.6],\n",
       "       [ 48. , 239.9,  41.5,  18.5,  23.2],\n",
       "       [ 49. , 227.2,  15.8,  49.9,  14.8],\n",
       "       [ 50. ,  66.9,  11.7,  36.8,   9.7],\n",
       "       [ 51. , 199.8,   3.1,  34.6,  11.4],\n",
       "       [ 52. , 100.4,   9.6,   3.6,  10.7],\n",
       "       [ 53. , 216.4,  41.7,  39.6,  22.6],\n",
       "       [ 54. , 182.6,  46.2,  58.7,  21.2],\n",
       "       [ 55. , 262.7,  28.8,  15.9,  20.2],\n",
       "       [ 56. , 198.9,  49.4,  60. ,  23.7],\n",
       "       [ 57. ,   7.3,  28.1,  41.4,   5.5],\n",
       "       [ 58. , 136.2,  19.2,  16.6,  13.2],\n",
       "       [ 59. , 210.8,  49.6,  37.7,  23.8],\n",
       "       [ 60. , 210.7,  29.5,   9.3,  18.4],\n",
       "       [ 61. ,  53.5,   2. ,  21.4,   8.1],\n",
       "       [ 62. , 261.3,  42.7,  54.7,  24.2],\n",
       "       [ 63. , 239.3,  15.5,  27.3,  15.7],\n",
       "       [ 64. , 102.7,  29.6,   8.4,  14. ],\n",
       "       [ 65. , 131.1,  42.8,  28.9,  18. ],\n",
       "       [ 66. ,  69. ,   9.3,   0.9,   9.3],\n",
       "       [ 67. ,  31.5,  24.6,   2.2,   9.5],\n",
       "       [ 68. , 139.3,  14.5,  10.2,  13.4],\n",
       "       [ 69. , 237.4,  27.5,  11. ,  18.9],\n",
       "       [ 70. , 216.8,  43.9,  27.2,  22.3],\n",
       "       [ 71. , 199.1,  30.6,  38.7,  18.3],\n",
       "       [ 72. , 109.8,  14.3,  31.7,  12.4],\n",
       "       [ 73. ,  26.8,  33. ,  19.3,   8.8],\n",
       "       [ 74. , 129.4,   5.7,  31.3,  11. ],\n",
       "       [ 75. , 213.4,  24.6,  13.1,  17. ],\n",
       "       [ 76. ,  16.9,  43.7,  89.4,   8.7],\n",
       "       [ 77. ,  27.5,   1.6,  20.7,   6.9],\n",
       "       [ 78. , 120.5,  28.5,  14.2,  14.2],\n",
       "       [ 79. ,   5.4,  29.9,   9.4,   5.3],\n",
       "       [ 80. , 116. ,   7.7,  23.1,  11. ],\n",
       "       [ 81. ,  76.4,  26.7,  22.3,  11.8],\n",
       "       [ 82. , 239.8,   4.1,  36.9,  12.3],\n",
       "       [ 83. ,  75.3,  20.3,  32.5,  11.3],\n",
       "       [ 84. ,  68.4,  44.5,  35.6,  13.6],\n",
       "       [ 85. , 213.5,  43. ,  33.8,  21.7],\n",
       "       [ 86. , 193.2,  18.4,  65.7,  15.2],\n",
       "       [ 87. ,  76.3,  27.5,  16. ,  12. ],\n",
       "       [ 88. , 110.7,  40.6,  63.2,  16. ],\n",
       "       [ 89. ,  88.3,  25.5,  73.4,  12.9],\n",
       "       [ 90. , 109.8,  47.8,  51.4,  16.7],\n",
       "       [ 91. , 134.3,   4.9,   9.3,  11.2],\n",
       "       [ 92. ,  28.6,   1.5,  33. ,   7.3],\n",
       "       [ 93. , 217.7,  33.5,  59. ,  19.4],\n",
       "       [ 94. , 250.9,  36.5,  72.3,  22.2],\n",
       "       [ 95. , 107.4,  14. ,  10.9,  11.5],\n",
       "       [ 96. , 163.3,  31.6,  52.9,  16.9],\n",
       "       [ 97. , 197.6,   3.5,   5.9,  11.7],\n",
       "       [ 98. , 184.9,  21. ,  22. ,  15.5],\n",
       "       [ 99. , 289.7,  42.3,  51.2,  25.4],\n",
       "       [100. , 135.2,  41.7,  45.9,  17.2],\n",
       "       [101. , 222.4,   4.3,  49.8,  11.7],\n",
       "       [102. , 296.4,  36.3, 100.9,  23.8],\n",
       "       [103. , 280.2,  10.1,  21.4,  14.8],\n",
       "       [104. , 187.9,  17.2,  17.9,  14.7],\n",
       "       [105. , 238.2,  34.3,   5.3,  20.7],\n",
       "       [106. , 137.9,  46.4,  59. ,  19.2],\n",
       "       [107. ,  25. ,  11. ,  29.7,   7.2],\n",
       "       [108. ,  90.4,   0.3,  23.2,   8.7],\n",
       "       [109. ,  13.1,   0.4,  25.6,   5.3],\n",
       "       [110. , 255.4,  26.9,   5.5,  19.8],\n",
       "       [111. , 225.8,   8.2,  56.5,  13.4],\n",
       "       [112. , 241.7,  38. ,  23.2,  21.8],\n",
       "       [113. , 175.7,  15.4,   2.4,  14.1],\n",
       "       [114. , 209.6,  20.6,  10.7,  15.9],\n",
       "       [115. ,  78.2,  46.8,  34.5,  14.6],\n",
       "       [116. ,  75.1,  35. ,  52.7,  12.6],\n",
       "       [117. , 139.2,  14.3,  25.6,  12.2],\n",
       "       [118. ,  76.4,   0.8,  14.8,   9.4],\n",
       "       [119. , 125.7,  36.9,  79.2,  15.9],\n",
       "       [120. ,  19.4,  16. ,  22.3,   6.6],\n",
       "       [121. , 141.3,  26.8,  46.2,  15.5],\n",
       "       [122. ,  18.8,  21.7,  50.4,   7. ],\n",
       "       [123. , 224. ,   2.4,  15.6,  11.6],\n",
       "       [124. , 123.1,  34.6,  12.4,  15.2],\n",
       "       [125. , 229.5,  32.3,  74.2,  19.7],\n",
       "       [126. ,  87.2,  11.8,  25.9,  10.6],\n",
       "       [127. ,   7.8,  38.9,  50.6,   6.6],\n",
       "       [128. ,  80.2,   0. ,   9.2,   8.8],\n",
       "       [129. , 220.3,  49. ,   3.2,  24.7],\n",
       "       [130. ,  59.6,  12. ,  43.1,   9.7],\n",
       "       [131. ,   0.7,  39.6,   8.7,   1.6],\n",
       "       [132. , 265.2,   2.9,  43. ,  12.7],\n",
       "       [133. ,   8.4,  27.2,   2.1,   5.7],\n",
       "       [134. , 219.8,  33.5,  45.1,  19.6],\n",
       "       [135. ,  36.9,  38.6,  65.6,  10.8],\n",
       "       [136. ,  48.3,  47. ,   8.5,  11.6],\n",
       "       [137. ,  25.6,  39. ,   9.3,   9.5],\n",
       "       [138. , 273.7,  28.9,  59.7,  20.8],\n",
       "       [139. ,  43. ,  25.9,  20.5,   9.6],\n",
       "       [140. , 184.9,  43.9,   1.7,  20.7],\n",
       "       [141. ,  73.4,  17. ,  12.9,  10.9],\n",
       "       [142. , 193.7,  35.4,  75.6,  19.2],\n",
       "       [143. , 220.5,  33.2,  37.9,  20.1],\n",
       "       [144. , 104.6,   5.7,  34.4,  10.4],\n",
       "       [145. ,  96.2,  14.8,  38.9,  11.4],\n",
       "       [146. , 140.3,   1.9,   9. ,  10.3],\n",
       "       [147. , 240.1,   7.3,   8.7,  13.2],\n",
       "       [148. , 243.2,  49. ,  44.3,  25.4],\n",
       "       [149. ,  38. ,  40.3,  11.9,  10.9],\n",
       "       [150. ,  44.7,  25.8,  20.6,  10.1],\n",
       "       [151. , 280.7,  13.9,  37. ,  16.1],\n",
       "       [152. , 121. ,   8.4,  48.7,  11.6],\n",
       "       [153. , 197.6,  23.3,  14.2,  16.6],\n",
       "       [154. , 171.3,  39.7,  37.7,  19. ],\n",
       "       [155. , 187.8,  21.1,   9.5,  15.6],\n",
       "       [156. ,   4.1,  11.6,   5.7,   3.2],\n",
       "       [157. ,  93.9,  43.5,  50.5,  15.3],\n",
       "       [158. , 149.8,   1.3,  24.3,  10.1],\n",
       "       [159. ,  11.7,  36.9,  45.2,   7.3],\n",
       "       [160. , 131.7,  18.4,  34.6,  12.9],\n",
       "       [161. , 172.5,  18.1,  30.7,  14.4],\n",
       "       [162. ,  85.7,  35.8,  49.3,  13.3],\n",
       "       [163. , 188.4,  18.1,  25.6,  14.9],\n",
       "       [164. , 163.5,  36.8,   7.4,  18. ],\n",
       "       [165. , 117.2,  14.7,   5.4,  11.9],\n",
       "       [166. , 234.5,   3.4,  84.8,  11.9],\n",
       "       [167. ,  17.9,  37.6,  21.6,   8. ],\n",
       "       [168. , 206.8,   5.2,  19.4,  12.2],\n",
       "       [169. , 215.4,  23.6,  57.6,  17.1],\n",
       "       [170. , 284.3,  10.6,   6.4,  15. ],\n",
       "       [171. ,  50. ,  11.6,  18.4,   8.4],\n",
       "       [172. , 164.5,  20.9,  47.4,  14.5],\n",
       "       [173. ,  19.6,  20.1,  17. ,   7.6],\n",
       "       [174. , 168.4,   7.1,  12.8,  11.7],\n",
       "       [175. , 222.4,   3.4,  13.1,  11.5],\n",
       "       [176. , 276.9,  48.9,  41.8,  27. ],\n",
       "       [177. , 248.4,  30.2,  20.3,  20.2],\n",
       "       [178. , 170.2,   7.8,  35.2,  11.7],\n",
       "       [179. , 276.7,   2.3,  23.7,  11.8],\n",
       "       [180. , 165.6,  10. ,  17.6,  12.6],\n",
       "       [181. , 156.6,   2.6,   8.3,  10.5],\n",
       "       [182. , 218.5,   5.4,  27.4,  12.2],\n",
       "       [183. ,  56.2,   5.7,  29.7,   8.7],\n",
       "       [184. , 287.6,  43. ,  71.8,  26.2],\n",
       "       [185. , 253.8,  21.3,  30. ,  17.6],\n",
       "       [186. , 205. ,  45.1,  19.6,  22.6],\n",
       "       [187. , 139.5,   2.1,  26.6,  10.3],\n",
       "       [188. , 191.1,  28.7,  18.2,  17.3],\n",
       "       [189. , 286. ,  13.9,   3.7,  15.9],\n",
       "       [190. ,  18.7,  12.1,  23.4,   6.7],\n",
       "       [191. ,  39.5,  41.1,   5.8,  10.8],\n",
       "       [192. ,  75.5,  10.8,   6. ,   9.9],\n",
       "       [193. ,  17.2,   4.1,  31.6,   5.9],\n",
       "       [194. , 166.8,  42. ,   3.6,  19.6],\n",
       "       [195. , 149.7,  35.6,   6. ,  17.3],\n",
       "       [196. ,  38.2,   3.7,  13.8,   7.6],\n",
       "       [197. ,  94.2,   4.9,   8.1,   9.7],\n",
       "       [198. , 177. ,   9.3,   6.4,  12.8],\n",
       "       [199. , 283.6,  42. ,  66.2,  25.5],\n",
       "       [200. , 232.1,   8.6,   8.7,  13.4]])"
      ]
     },
     "execution_count": 10,
     "metadata": {},
     "output_type": "execute_result"
    }
   ],
   "source": [
    "df.values"
   ]
  },
  {
   "cell_type": "code",
   "execution_count": 11,
   "id": "4b02c9af",
   "metadata": {},
   "outputs": [
    {
     "data": {
      "text/plain": [
       "(200, 5)"
      ]
     },
     "execution_count": 11,
     "metadata": {},
     "output_type": "execute_result"
    }
   ],
   "source": [
    "df.shape"
   ]
  },
  {
   "cell_type": "code",
   "execution_count": 12,
   "id": "3ad5d84a",
   "metadata": {},
   "outputs": [
    {
     "data": {
      "text/html": [
       "<div>\n",
       "<style scoped>\n",
       "    .dataframe tbody tr th:only-of-type {\n",
       "        vertical-align: middle;\n",
       "    }\n",
       "\n",
       "    .dataframe tbody tr th {\n",
       "        vertical-align: top;\n",
       "    }\n",
       "\n",
       "    .dataframe thead th {\n",
       "        text-align: right;\n",
       "    }\n",
       "</style>\n",
       "<table border=\"1\" class=\"dataframe\">\n",
       "  <thead>\n",
       "    <tr style=\"text-align: right;\">\n",
       "      <th></th>\n",
       "      <th>Unnamed: 0</th>\n",
       "      <th>TV</th>\n",
       "      <th>radio</th>\n",
       "      <th>newspaper</th>\n",
       "      <th>sales</th>\n",
       "    </tr>\n",
       "  </thead>\n",
       "  <tbody>\n",
       "    <tr>\n",
       "      <th>count</th>\n",
       "      <td>200.000000</td>\n",
       "      <td>200.000000</td>\n",
       "      <td>200.000000</td>\n",
       "      <td>200.000000</td>\n",
       "      <td>200.000000</td>\n",
       "    </tr>\n",
       "    <tr>\n",
       "      <th>mean</th>\n",
       "      <td>100.500000</td>\n",
       "      <td>147.042500</td>\n",
       "      <td>23.264000</td>\n",
       "      <td>30.554000</td>\n",
       "      <td>14.022500</td>\n",
       "    </tr>\n",
       "    <tr>\n",
       "      <th>std</th>\n",
       "      <td>57.879185</td>\n",
       "      <td>85.854236</td>\n",
       "      <td>14.846809</td>\n",
       "      <td>21.778621</td>\n",
       "      <td>5.217457</td>\n",
       "    </tr>\n",
       "    <tr>\n",
       "      <th>min</th>\n",
       "      <td>1.000000</td>\n",
       "      <td>0.700000</td>\n",
       "      <td>0.000000</td>\n",
       "      <td>0.300000</td>\n",
       "      <td>1.600000</td>\n",
       "    </tr>\n",
       "    <tr>\n",
       "      <th>25%</th>\n",
       "      <td>50.750000</td>\n",
       "      <td>74.375000</td>\n",
       "      <td>9.975000</td>\n",
       "      <td>12.750000</td>\n",
       "      <td>10.375000</td>\n",
       "    </tr>\n",
       "    <tr>\n",
       "      <th>50%</th>\n",
       "      <td>100.500000</td>\n",
       "      <td>149.750000</td>\n",
       "      <td>22.900000</td>\n",
       "      <td>25.750000</td>\n",
       "      <td>12.900000</td>\n",
       "    </tr>\n",
       "    <tr>\n",
       "      <th>75%</th>\n",
       "      <td>150.250000</td>\n",
       "      <td>218.825000</td>\n",
       "      <td>36.525000</td>\n",
       "      <td>45.100000</td>\n",
       "      <td>17.400000</td>\n",
       "    </tr>\n",
       "    <tr>\n",
       "      <th>max</th>\n",
       "      <td>200.000000</td>\n",
       "      <td>296.400000</td>\n",
       "      <td>49.600000</td>\n",
       "      <td>114.000000</td>\n",
       "      <td>27.000000</td>\n",
       "    </tr>\n",
       "  </tbody>\n",
       "</table>\n",
       "</div>"
      ],
      "text/plain": [
       "       Unnamed: 0          TV       radio   newspaper       sales\n",
       "count  200.000000  200.000000  200.000000  200.000000  200.000000\n",
       "mean   100.500000  147.042500   23.264000   30.554000   14.022500\n",
       "std     57.879185   85.854236   14.846809   21.778621    5.217457\n",
       "min      1.000000    0.700000    0.000000    0.300000    1.600000\n",
       "25%     50.750000   74.375000    9.975000   12.750000   10.375000\n",
       "50%    100.500000  149.750000   22.900000   25.750000   12.900000\n",
       "75%    150.250000  218.825000   36.525000   45.100000   17.400000\n",
       "max    200.000000  296.400000   49.600000  114.000000   27.000000"
      ]
     },
     "execution_count": 12,
     "metadata": {},
     "output_type": "execute_result"
    }
   ],
   "source": [
    "df.describe()"
   ]
  },
  {
   "cell_type": "code",
   "execution_count": 13,
   "id": "02edee52",
   "metadata": {},
   "outputs": [
    {
     "data": {
      "text/html": [
       "<div>\n",
       "<style scoped>\n",
       "    .dataframe tbody tr th:only-of-type {\n",
       "        vertical-align: middle;\n",
       "    }\n",
       "\n",
       "    .dataframe tbody tr th {\n",
       "        vertical-align: top;\n",
       "    }\n",
       "\n",
       "    .dataframe thead th {\n",
       "        text-align: right;\n",
       "    }\n",
       "</style>\n",
       "<table border=\"1\" class=\"dataframe\">\n",
       "  <thead>\n",
       "    <tr style=\"text-align: right;\">\n",
       "      <th></th>\n",
       "      <th>Unnamed: 0</th>\n",
       "      <th>TV</th>\n",
       "      <th>radio</th>\n",
       "      <th>newspaper</th>\n",
       "      <th>sales</th>\n",
       "    </tr>\n",
       "  </thead>\n",
       "  <tbody>\n",
       "    <tr>\n",
       "      <th>0</th>\n",
       "      <td>False</td>\n",
       "      <td>False</td>\n",
       "      <td>False</td>\n",
       "      <td>False</td>\n",
       "      <td>False</td>\n",
       "    </tr>\n",
       "    <tr>\n",
       "      <th>1</th>\n",
       "      <td>False</td>\n",
       "      <td>False</td>\n",
       "      <td>False</td>\n",
       "      <td>False</td>\n",
       "      <td>False</td>\n",
       "    </tr>\n",
       "    <tr>\n",
       "      <th>2</th>\n",
       "      <td>False</td>\n",
       "      <td>False</td>\n",
       "      <td>False</td>\n",
       "      <td>False</td>\n",
       "      <td>False</td>\n",
       "    </tr>\n",
       "    <tr>\n",
       "      <th>3</th>\n",
       "      <td>False</td>\n",
       "      <td>False</td>\n",
       "      <td>False</td>\n",
       "      <td>False</td>\n",
       "      <td>False</td>\n",
       "    </tr>\n",
       "    <tr>\n",
       "      <th>4</th>\n",
       "      <td>False</td>\n",
       "      <td>False</td>\n",
       "      <td>False</td>\n",
       "      <td>False</td>\n",
       "      <td>False</td>\n",
       "    </tr>\n",
       "    <tr>\n",
       "      <th>...</th>\n",
       "      <td>...</td>\n",
       "      <td>...</td>\n",
       "      <td>...</td>\n",
       "      <td>...</td>\n",
       "      <td>...</td>\n",
       "    </tr>\n",
       "    <tr>\n",
       "      <th>195</th>\n",
       "      <td>False</td>\n",
       "      <td>False</td>\n",
       "      <td>False</td>\n",
       "      <td>False</td>\n",
       "      <td>False</td>\n",
       "    </tr>\n",
       "    <tr>\n",
       "      <th>196</th>\n",
       "      <td>False</td>\n",
       "      <td>False</td>\n",
       "      <td>False</td>\n",
       "      <td>False</td>\n",
       "      <td>False</td>\n",
       "    </tr>\n",
       "    <tr>\n",
       "      <th>197</th>\n",
       "      <td>False</td>\n",
       "      <td>False</td>\n",
       "      <td>False</td>\n",
       "      <td>False</td>\n",
       "      <td>False</td>\n",
       "    </tr>\n",
       "    <tr>\n",
       "      <th>198</th>\n",
       "      <td>False</td>\n",
       "      <td>False</td>\n",
       "      <td>False</td>\n",
       "      <td>False</td>\n",
       "      <td>False</td>\n",
       "    </tr>\n",
       "    <tr>\n",
       "      <th>199</th>\n",
       "      <td>False</td>\n",
       "      <td>False</td>\n",
       "      <td>False</td>\n",
       "      <td>False</td>\n",
       "      <td>False</td>\n",
       "    </tr>\n",
       "  </tbody>\n",
       "</table>\n",
       "<p>200 rows × 5 columns</p>\n",
       "</div>"
      ],
      "text/plain": [
       "     Unnamed: 0     TV  radio  newspaper  sales\n",
       "0         False  False  False      False  False\n",
       "1         False  False  False      False  False\n",
       "2         False  False  False      False  False\n",
       "3         False  False  False      False  False\n",
       "4         False  False  False      False  False\n",
       "..          ...    ...    ...        ...    ...\n",
       "195       False  False  False      False  False\n",
       "196       False  False  False      False  False\n",
       "197       False  False  False      False  False\n",
       "198       False  False  False      False  False\n",
       "199       False  False  False      False  False\n",
       "\n",
       "[200 rows x 5 columns]"
      ]
     },
     "execution_count": 13,
     "metadata": {},
     "output_type": "execute_result"
    }
   ],
   "source": [
    "df.isna()"
   ]
  },
  {
   "cell_type": "code",
   "execution_count": 14,
   "id": "baf78dc8",
   "metadata": {},
   "outputs": [
    {
     "data": {
      "text/html": [
       "<div>\n",
       "<style scoped>\n",
       "    .dataframe tbody tr th:only-of-type {\n",
       "        vertical-align: middle;\n",
       "    }\n",
       "\n",
       "    .dataframe tbody tr th {\n",
       "        vertical-align: top;\n",
       "    }\n",
       "\n",
       "    .dataframe thead th {\n",
       "        text-align: right;\n",
       "    }\n",
       "</style>\n",
       "<table border=\"1\" class=\"dataframe\">\n",
       "  <thead>\n",
       "    <tr style=\"text-align: right;\">\n",
       "      <th></th>\n",
       "      <th>TV</th>\n",
       "      <th>radio</th>\n",
       "      <th>newspaper</th>\n",
       "      <th>sales</th>\n",
       "    </tr>\n",
       "  </thead>\n",
       "  <tbody>\n",
       "    <tr>\n",
       "      <th>0</th>\n",
       "      <td>230.1</td>\n",
       "      <td>37.8</td>\n",
       "      <td>69.2</td>\n",
       "      <td>22.1</td>\n",
       "    </tr>\n",
       "    <tr>\n",
       "      <th>1</th>\n",
       "      <td>44.5</td>\n",
       "      <td>39.3</td>\n",
       "      <td>45.1</td>\n",
       "      <td>10.4</td>\n",
       "    </tr>\n",
       "    <tr>\n",
       "      <th>2</th>\n",
       "      <td>17.2</td>\n",
       "      <td>45.9</td>\n",
       "      <td>69.3</td>\n",
       "      <td>9.3</td>\n",
       "    </tr>\n",
       "    <tr>\n",
       "      <th>3</th>\n",
       "      <td>151.5</td>\n",
       "      <td>41.3</td>\n",
       "      <td>58.5</td>\n",
       "      <td>18.5</td>\n",
       "    </tr>\n",
       "    <tr>\n",
       "      <th>4</th>\n",
       "      <td>180.8</td>\n",
       "      <td>10.8</td>\n",
       "      <td>58.4</td>\n",
       "      <td>12.9</td>\n",
       "    </tr>\n",
       "    <tr>\n",
       "      <th>...</th>\n",
       "      <td>...</td>\n",
       "      <td>...</td>\n",
       "      <td>...</td>\n",
       "      <td>...</td>\n",
       "    </tr>\n",
       "    <tr>\n",
       "      <th>195</th>\n",
       "      <td>38.2</td>\n",
       "      <td>3.7</td>\n",
       "      <td>13.8</td>\n",
       "      <td>7.6</td>\n",
       "    </tr>\n",
       "    <tr>\n",
       "      <th>196</th>\n",
       "      <td>94.2</td>\n",
       "      <td>4.9</td>\n",
       "      <td>8.1</td>\n",
       "      <td>9.7</td>\n",
       "    </tr>\n",
       "    <tr>\n",
       "      <th>197</th>\n",
       "      <td>177.0</td>\n",
       "      <td>9.3</td>\n",
       "      <td>6.4</td>\n",
       "      <td>12.8</td>\n",
       "    </tr>\n",
       "    <tr>\n",
       "      <th>198</th>\n",
       "      <td>283.6</td>\n",
       "      <td>42.0</td>\n",
       "      <td>66.2</td>\n",
       "      <td>25.5</td>\n",
       "    </tr>\n",
       "    <tr>\n",
       "      <th>199</th>\n",
       "      <td>232.1</td>\n",
       "      <td>8.6</td>\n",
       "      <td>8.7</td>\n",
       "      <td>13.4</td>\n",
       "    </tr>\n",
       "  </tbody>\n",
       "</table>\n",
       "<p>200 rows × 4 columns</p>\n",
       "</div>"
      ],
      "text/plain": [
       "        TV  radio  newspaper  sales\n",
       "0    230.1   37.8       69.2   22.1\n",
       "1     44.5   39.3       45.1   10.4\n",
       "2     17.2   45.9       69.3    9.3\n",
       "3    151.5   41.3       58.5   18.5\n",
       "4    180.8   10.8       58.4   12.9\n",
       "..     ...    ...        ...    ...\n",
       "195   38.2    3.7       13.8    7.6\n",
       "196   94.2    4.9        8.1    9.7\n",
       "197  177.0    9.3        6.4   12.8\n",
       "198  283.6   42.0       66.2   25.5\n",
       "199  232.1    8.6        8.7   13.4\n",
       "\n",
       "[200 rows x 4 columns]"
      ]
     },
     "execution_count": 14,
     "metadata": {},
     "output_type": "execute_result"
    }
   ],
   "source": [
    "df.drop('Unnamed: 0',axis=1)\n",
    "# this error occur because of column is already droped"
   ]
  },
  {
   "cell_type": "code",
   "execution_count": 15,
   "id": "8bcacf36",
   "metadata": {},
   "outputs": [
    {
     "data": {
      "text/html": [
       "<div>\n",
       "<style scoped>\n",
       "    .dataframe tbody tr th:only-of-type {\n",
       "        vertical-align: middle;\n",
       "    }\n",
       "\n",
       "    .dataframe tbody tr th {\n",
       "        vertical-align: top;\n",
       "    }\n",
       "\n",
       "    .dataframe thead th {\n",
       "        text-align: right;\n",
       "    }\n",
       "</style>\n",
       "<table border=\"1\" class=\"dataframe\">\n",
       "  <thead>\n",
       "    <tr style=\"text-align: right;\">\n",
       "      <th></th>\n",
       "      <th>Unnamed: 0</th>\n",
       "      <th>TV</th>\n",
       "      <th>radio</th>\n",
       "      <th>newspaper</th>\n",
       "      <th>sales</th>\n",
       "    </tr>\n",
       "  </thead>\n",
       "  <tbody>\n",
       "    <tr>\n",
       "      <th>0</th>\n",
       "      <td>1</td>\n",
       "      <td>230.1</td>\n",
       "      <td>37.8</td>\n",
       "      <td>69.2</td>\n",
       "      <td>22.1</td>\n",
       "    </tr>\n",
       "    <tr>\n",
       "      <th>1</th>\n",
       "      <td>2</td>\n",
       "      <td>44.5</td>\n",
       "      <td>39.3</td>\n",
       "      <td>45.1</td>\n",
       "      <td>10.4</td>\n",
       "    </tr>\n",
       "    <tr>\n",
       "      <th>2</th>\n",
       "      <td>3</td>\n",
       "      <td>17.2</td>\n",
       "      <td>45.9</td>\n",
       "      <td>69.3</td>\n",
       "      <td>9.3</td>\n",
       "    </tr>\n",
       "    <tr>\n",
       "      <th>3</th>\n",
       "      <td>4</td>\n",
       "      <td>151.5</td>\n",
       "      <td>41.3</td>\n",
       "      <td>58.5</td>\n",
       "      <td>18.5</td>\n",
       "    </tr>\n",
       "    <tr>\n",
       "      <th>4</th>\n",
       "      <td>5</td>\n",
       "      <td>180.8</td>\n",
       "      <td>10.8</td>\n",
       "      <td>58.4</td>\n",
       "      <td>12.9</td>\n",
       "    </tr>\n",
       "    <tr>\n",
       "      <th>...</th>\n",
       "      <td>...</td>\n",
       "      <td>...</td>\n",
       "      <td>...</td>\n",
       "      <td>...</td>\n",
       "      <td>...</td>\n",
       "    </tr>\n",
       "    <tr>\n",
       "      <th>195</th>\n",
       "      <td>196</td>\n",
       "      <td>38.2</td>\n",
       "      <td>3.7</td>\n",
       "      <td>13.8</td>\n",
       "      <td>7.6</td>\n",
       "    </tr>\n",
       "    <tr>\n",
       "      <th>196</th>\n",
       "      <td>197</td>\n",
       "      <td>94.2</td>\n",
       "      <td>4.9</td>\n",
       "      <td>8.1</td>\n",
       "      <td>9.7</td>\n",
       "    </tr>\n",
       "    <tr>\n",
       "      <th>197</th>\n",
       "      <td>198</td>\n",
       "      <td>177.0</td>\n",
       "      <td>9.3</td>\n",
       "      <td>6.4</td>\n",
       "      <td>12.8</td>\n",
       "    </tr>\n",
       "    <tr>\n",
       "      <th>198</th>\n",
       "      <td>199</td>\n",
       "      <td>283.6</td>\n",
       "      <td>42.0</td>\n",
       "      <td>66.2</td>\n",
       "      <td>25.5</td>\n",
       "    </tr>\n",
       "    <tr>\n",
       "      <th>199</th>\n",
       "      <td>200</td>\n",
       "      <td>232.1</td>\n",
       "      <td>8.6</td>\n",
       "      <td>8.7</td>\n",
       "      <td>13.4</td>\n",
       "    </tr>\n",
       "  </tbody>\n",
       "</table>\n",
       "<p>200 rows × 5 columns</p>\n",
       "</div>"
      ],
      "text/plain": [
       "     Unnamed: 0     TV  radio  newspaper  sales\n",
       "0             1  230.1   37.8       69.2   22.1\n",
       "1             2   44.5   39.3       45.1   10.4\n",
       "2             3   17.2   45.9       69.3    9.3\n",
       "3             4  151.5   41.3       58.5   18.5\n",
       "4             5  180.8   10.8       58.4   12.9\n",
       "..          ...    ...    ...        ...    ...\n",
       "195         196   38.2    3.7       13.8    7.6\n",
       "196         197   94.2    4.9        8.1    9.7\n",
       "197         198  177.0    9.3        6.4   12.8\n",
       "198         199  283.6   42.0       66.2   25.5\n",
       "199         200  232.1    8.6        8.7   13.4\n",
       "\n",
       "[200 rows x 5 columns]"
      ]
     },
     "execution_count": 15,
     "metadata": {},
     "output_type": "execute_result"
    }
   ],
   "source": [
    "df"
   ]
  },
  {
   "cell_type": "code",
   "execution_count": 16,
   "id": "9e30c1ba",
   "metadata": {},
   "outputs": [
    {
     "data": {
      "text/html": [
       "<div>\n",
       "<style scoped>\n",
       "    .dataframe tbody tr th:only-of-type {\n",
       "        vertical-align: middle;\n",
       "    }\n",
       "\n",
       "    .dataframe tbody tr th {\n",
       "        vertical-align: top;\n",
       "    }\n",
       "\n",
       "    .dataframe thead th {\n",
       "        text-align: right;\n",
       "    }\n",
       "</style>\n",
       "<table border=\"1\" class=\"dataframe\">\n",
       "  <thead>\n",
       "    <tr style=\"text-align: right;\">\n",
       "      <th></th>\n",
       "      <th>TV</th>\n",
       "      <th>radio</th>\n",
       "      <th>newspaper</th>\n",
       "      <th>sales</th>\n",
       "    </tr>\n",
       "  </thead>\n",
       "  <tbody>\n",
       "    <tr>\n",
       "      <th>0</th>\n",
       "      <td>230.1</td>\n",
       "      <td>37.8</td>\n",
       "      <td>69.2</td>\n",
       "      <td>22.1</td>\n",
       "    </tr>\n",
       "    <tr>\n",
       "      <th>1</th>\n",
       "      <td>44.5</td>\n",
       "      <td>39.3</td>\n",
       "      <td>45.1</td>\n",
       "      <td>10.4</td>\n",
       "    </tr>\n",
       "    <tr>\n",
       "      <th>2</th>\n",
       "      <td>17.2</td>\n",
       "      <td>45.9</td>\n",
       "      <td>69.3</td>\n",
       "      <td>9.3</td>\n",
       "    </tr>\n",
       "    <tr>\n",
       "      <th>3</th>\n",
       "      <td>151.5</td>\n",
       "      <td>41.3</td>\n",
       "      <td>58.5</td>\n",
       "      <td>18.5</td>\n",
       "    </tr>\n",
       "    <tr>\n",
       "      <th>4</th>\n",
       "      <td>180.8</td>\n",
       "      <td>10.8</td>\n",
       "      <td>58.4</td>\n",
       "      <td>12.9</td>\n",
       "    </tr>\n",
       "  </tbody>\n",
       "</table>\n",
       "</div>"
      ],
      "text/plain": [
       "      TV  radio  newspaper  sales\n",
       "0  230.1   37.8       69.2   22.1\n",
       "1   44.5   39.3       45.1   10.4\n",
       "2   17.2   45.9       69.3    9.3\n",
       "3  151.5   41.3       58.5   18.5\n",
       "4  180.8   10.8       58.4   12.9"
      ]
     },
     "execution_count": 16,
     "metadata": {},
     "output_type": "execute_result"
    }
   ],
   "source": [
    "df1 = df[['TV','radio','newspaper','sales']]\n",
    "df1.head()\n"
   ]
  },
  {
   "cell_type": "code",
   "execution_count": 17,
   "id": "4d567789",
   "metadata": {},
   "outputs": [
    {
     "data": {
      "text/plain": [
       "TV           0\n",
       "radio        0\n",
       "newspaper    0\n",
       "sales        0\n",
       "dtype: int64"
      ]
     },
     "execution_count": 17,
     "metadata": {},
     "output_type": "execute_result"
    }
   ],
   "source": [
    "df1.isna().sum()"
   ]
  },
  {
   "cell_type": "code",
   "execution_count": 18,
   "id": "e594e4cd",
   "metadata": {},
   "outputs": [],
   "source": [
    "from sklearn.model_selection import train_test_split as tts"
   ]
  },
  {
   "cell_type": "code",
   "execution_count": 19,
   "id": "07fddfc7",
   "metadata": {},
   "outputs": [],
   "source": [
    "import seaborn as sns\n"
   ]
  },
  {
   "cell_type": "code",
   "execution_count": 20,
   "id": "857c8ff2",
   "metadata": {},
   "outputs": [
    {
     "data": {
      "text/plain": [
       "<AxesSubplot:xlabel='TV', ylabel='sales'>"
      ]
     },
     "execution_count": 20,
     "metadata": {},
     "output_type": "execute_result"
    },
    {
     "data": {
      "image/png": "[encoded data removed]",
      "text/plain": [
       "<Figure size 640x480 with 1 Axes>"
      ]
     },
     "metadata": {},
     "output_type": "display_data"
    }
   ],
   "source": [
    "sns.scatterplot(data = df1, x = df1['TV'], y = df1['sales'])"
   ]
  },
  {
   "cell_type": "code",
   "execution_count": 63,
   "id": "07e62b21",
   "metadata": {},
   "outputs": [
    {
     "data": {
      "text/plain": [
       "<AxesSubplot:xlabel='TV', ylabel='sales'>"
      ]
     },
     "execution_count": 63,
     "metadata": {},
     "output_type": "execute_result"
    },
    {
     "data": {
      "image/png": "[encoded data removed]",
      "text/plain": [
       "<Figure size 640x480 with 1 Axes>"
      ]
     },
     "metadata": {},
     "output_type": "display_data"
    }
   ],
   "source": [
    "sns.regplot(data = df1, x = df1['TV'], y = df1['sales'],line_kws={\"color\":\"C10\"},color='green')"
   ]
  },
  {
   "cell_type": "code",
   "execution_count": 21,
   "id": "630d93f0",
   "metadata": {},
   "outputs": [],
   "source": [
    "X=df1[['TV']]\n",
    "Y=df1[['sales']]\n",
    "X1 = df1[['radio']]\n",
    "Y1 = df1[['newspaper']]\n"
   ]
  },
  {
   "cell_type": "code",
   "execution_count": 22,
   "id": "bcf7c091",
   "metadata": {},
   "outputs": [],
   "source": [
    "x_train, x_test, y_train, y_test = tts(X,Y,random_state=101) #train is used to fit data and test is used to evaluate data"
   ]
  },
  {
   "cell_type": "code",
   "execution_count": 23,
   "id": "6edff77b",
   "metadata": {},
   "outputs": [
    {
     "data": {
      "text/plain": [
       "(150, 1)"
      ]
     },
     "execution_count": 23,
     "metadata": {},
     "output_type": "execute_result"
    }
   ],
   "source": [
    "x_train.shape"
   ]
  },
  {
   "cell_type": "code",
   "execution_count": 24,
   "id": "89d75fa7",
   "metadata": {},
   "outputs": [
    {
     "data": {
      "text/plain": [
       "(50, 1)"
      ]
     },
     "execution_count": 24,
     "metadata": {},
     "output_type": "execute_result"
    }
   ],
   "source": [
    " x_test.shape"
   ]
  },
  {
   "cell_type": "code",
   "execution_count": 25,
   "id": "56d30b60",
   "metadata": {},
   "outputs": [
    {
     "data": {
      "text/plain": [
       "(150, 1)"
      ]
     },
     "execution_count": 25,
     "metadata": {},
     "output_type": "execute_result"
    }
   ],
   "source": [
    "y_train.shape"
   ]
  },
  {
   "cell_type": "code",
   "execution_count": 26,
   "id": "df5d67d8",
   "metadata": {},
   "outputs": [
    {
     "data": {
      "text/plain": [
       "(50, 1)"
      ]
     },
     "execution_count": 26,
     "metadata": {},
     "output_type": "execute_result"
    }
   ],
   "source": [
    "y_test.shape"
   ]
  },
  {
   "cell_type": "raw",
   "id": "86303077",
   "metadata": {},
   "source": [
    "x_train.head()"
   ]
  },
  {
   "cell_type": "code",
   "execution_count": 27,
   "id": "868f8b63",
   "metadata": {},
   "outputs": [],
   "source": [
    "from sklearn.linear_model import LinearRegression as lr"
   ]
  },
  {
   "cell_type": "code",
   "execution_count": 28,
   "id": "3f55a96a",
   "metadata": {},
   "outputs": [],
   "source": [
    "my_model = lr()"
   ]
  },
  {
   "cell_type": "code",
   "execution_count": 29,
   "id": "1c163e3c",
   "metadata": {},
   "outputs": [
    {
     "data": {
      "text/plain": [
       "LinearRegression()"
      ]
     },
     "execution_count": 29,
     "metadata": {},
     "output_type": "execute_result"
    }
   ],
   "source": [
    "my_model.fit(x_train,y_train) # here we fit x&y train in module"
   ]
  },
  {
   "cell_type": "code",
   "execution_count": 30,
   "id": "6c125380",
   "metadata": {},
   "outputs": [],
   "source": [
    "m =my_model.coef_"
   ]
  },
  {
   "cell_type": "code",
   "execution_count": 31,
   "id": "0bc1fd41",
   "metadata": {},
   "outputs": [],
   "source": [
    "c = my_model.intercept_"
   ]
  },
  {
   "cell_type": "code",
   "execution_count": 32,
   "id": "608da889",
   "metadata": {},
   "outputs": [
    {
     "data": {
      "text/plain": [
       "array([[17.8667296]])"
      ]
     },
     "execution_count": 32,
     "metadata": {},
     "output_type": "execute_result"
    }
   ],
   "source": [
    "y = (m*230.1)+c\n",
    "y"
   ]
  },
  {
   "cell_type": "code",
   "execution_count": 33,
   "id": "e12c1d5b",
   "metadata": {},
   "outputs": [
    {
     "name": "stderr",
     "output_type": "stream",
     "text": [
      "D:\\Anaconda\\lib\\site-packages\\sklearn\\base.py:450: UserWarning: X does not have valid feature names, but LinearRegression was fitted with feature names\n",
      "  warnings.warn(\n"
     ]
    },
    {
     "data": {
      "text/plain": [
       "array([[17.8667296]])"
      ]
     },
     "execution_count": 33,
     "metadata": {},
     "output_type": "execute_result"
    }
   ],
   "source": [
    "my_model.predict([[230.1]]) #model can directly predict without equation"
   ]
  },
  {
   "cell_type": "code",
   "execution_count": 34,
   "id": "34a86559",
   "metadata": {},
   "outputs": [
    {
     "data": {
      "text/plain": [
       "LinearRegression()"
      ]
     },
     "execution_count": 34,
     "metadata": {},
     "output_type": "execute_result"
    }
   ],
   "source": [
    "my_model.fit(x_test,y_test)"
   ]
  },
  {
   "cell_type": "code",
   "execution_count": 35,
   "id": "6d086f68",
   "metadata": {},
   "outputs": [],
   "source": [
    "m1 = my_model.coef_"
   ]
  },
  {
   "cell_type": "code",
   "execution_count": 36,
   "id": "a0d0ee35",
   "metadata": {},
   "outputs": [],
   "source": [
    "c1 = my_model.intercept_"
   ]
  },
  {
   "cell_type": "code",
   "execution_count": 37,
   "id": "901dea87",
   "metadata": {},
   "outputs": [
    {
     "data": {
      "text/plain": [
       "array([[18.36889101]])"
      ]
     },
     "execution_count": 37,
     "metadata": {},
     "output_type": "execute_result"
    }
   ],
   "source": [
    "y1 = (m1*230.1)+c1\n",
    "y1"
   ]
  },
  {
   "cell_type": "code",
   "execution_count": 38,
   "id": "fd7a381d",
   "metadata": {},
   "outputs": [],
   "source": [
    "k = my_model.predict(x_test)"
   ]
  },
  {
   "cell_type": "code",
   "execution_count": 39,
   "id": "ce56e2d5",
   "metadata": {},
   "outputs": [],
   "source": [
    "from sklearn.metrics import mean_squared_error,mean_absolute_error"
   ]
  },
  {
   "cell_type": "code",
   "execution_count": 40,
   "id": "1a66ad99",
   "metadata": {},
   "outputs": [
    {
     "data": {
      "text/plain": [
       "9.433250880580987"
      ]
     },
     "execution_count": 40,
     "metadata": {},
     "output_type": "execute_result"
    }
   ],
   "source": [
    "mean_squared_error(k,y_test)"
   ]
  },
  {
   "cell_type": "code",
   "execution_count": 41,
   "id": "ad0fa916",
   "metadata": {},
   "outputs": [
    {
     "data": {
      "text/plain": [
       "2.374920125130063"
      ]
     },
     "execution_count": 41,
     "metadata": {},
     "output_type": "execute_result"
    }
   ],
   "source": [
    "mean_absolute_error(k,y_test)"
   ]
  },
  {
   "cell_type": "code",
   "execution_count": 42,
   "id": "243d3365",
   "metadata": {},
   "outputs": [],
   "source": [
    "#exmaples for when we use MSE and MAE\n",
    "x1_train, x1_test, y1_train, y1_test = tts(X1,Y1,random_state=101) #train is used to fit data and test is used to evaluate data"
   ]
  },
  {
   "cell_type": "code",
   "execution_count": 43,
   "id": "05047c9e",
   "metadata": {},
   "outputs": [
    {
     "data": {
      "text/plain": [
       "LinearRegression()"
      ]
     },
     "execution_count": 43,
     "metadata": {},
     "output_type": "execute_result"
    }
   ],
   "source": [
    "my_model.fit(x1_train,y1_train)"
   ]
  },
  {
   "cell_type": "code",
   "execution_count": 44,
   "id": "4f34f895",
   "metadata": {},
   "outputs": [],
   "source": [
    "k1 = my_model.predict(x1_train)"
   ]
  },
  {
   "cell_type": "code",
   "execution_count": 45,
   "id": "4a981a73",
   "metadata": {},
   "outputs": [
    {
     "data": {
      "text/plain": [
       "116.8861407477857"
      ]
     },
     "execution_count": 45,
     "metadata": {},
     "output_type": "execute_result"
    }
   ],
   "source": [
    "mean_squared_error(k1,x1_train)"
   ]
  },
  {
   "cell_type": "code",
   "execution_count": 46,
   "id": "ee3a64b1",
   "metadata": {},
   "outputs": [
    {
     "data": {
      "text/plain": [
       "8.944782350295892"
      ]
     },
     "execution_count": 46,
     "metadata": {},
     "output_type": "execute_result"
    }
   ],
   "source": [
    "mean_absolute_error(k1,x1_train)"
   ]
  },
  {
   "cell_type": "code",
   "execution_count": 47,
   "id": "8d510146",
   "metadata": {},
   "outputs": [
    {
     "data": {
      "text/plain": [
       "LinearRegression()"
      ]
     },
     "execution_count": 47,
     "metadata": {},
     "output_type": "execute_result"
    }
   ],
   "source": [
    "my_model.fit(x1_test,y1_test)"
   ]
  },
  {
   "cell_type": "code",
   "execution_count": 48,
   "id": "e8c0552b",
   "metadata": {},
   "outputs": [
    {
     "name": "stderr",
     "output_type": "stream",
     "text": [
      "D:\\Anaconda\\lib\\site-packages\\sklearn\\base.py:493: FutureWarning: The feature names should match those that were passed during fit. Starting version 1.2, an error will be raised.\n",
      "Feature names unseen at fit time:\n",
      "- newspaper\n",
      "Feature names seen at fit time, yet now missing:\n",
      "- radio\n",
      "\n",
      "  warnings.warn(message, FutureWarning)\n"
     ]
    }
   ],
   "source": [
    "k2 = my_model.predict(x1_test)\n",
    "k3 = my_model.predict(y1_test)"
   ]
  },
  {
   "cell_type": "code",
   "execution_count": 49,
   "id": "16751d89",
   "metadata": {},
   "outputs": [
    {
     "data": {
      "text/plain": [
       "85.37893248075653"
      ]
     },
     "execution_count": 49,
     "metadata": {},
     "output_type": "execute_result"
    }
   ],
   "source": [
    "mean_squared_error(k2,x1_test)"
   ]
  },
  {
   "cell_type": "code",
   "execution_count": null,
   "id": "36b31ed1",
   "metadata": {},
   "outputs": [],
   "source": []
  },
  {
   "cell_type": "code",
   "execution_count": null,
   "id": "2bb77467",
   "metadata": {},
   "outputs": [],
   "source": []
  },
  {
   "cell_type": "code",
   "execution_count": null,
   "id": "c6dad919",
   "metadata": {},
   "outputs": [],
   "source": []
  },
  {
   "cell_type": "code",
   "execution_count": null,
   "id": "1620ea4c",
   "metadata": {},
   "outputs": [],
   "source": []
  }
 ],
 "metadata": {
  "kernelspec": {
   "display_name": "Python 3 (ipykernel)",
   "language": "python",
   "name": "python3"
  },
  "language_info": {
   "codemirror_mode": {
    "name": "ipython",
    "version": 3
   },
   "file_extension": ".py",
   "mimetype": "text/x-python",
   "name": "python",
   "nbconvert_exporter": "python",
   "pygments_lexer": "ipython3",
   "version": "3.9.13"
  }
 },
 "nbformat": 4,
 "nbformat_minor": 5
}
